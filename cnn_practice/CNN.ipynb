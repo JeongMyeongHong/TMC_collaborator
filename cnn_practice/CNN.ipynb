{
 "nbformat": 4,
 "nbformat_minor": 0,
 "metadata": {
  "colab": {
   "name": "CNN.ipynb",
   "provenance": [],
   "collapsed_sections": []
  },
  "kernelspec": {
   "name": "python3",
   "display_name": "Python 3"
  }
 },
 "cells": [
  {
   "cell_type": "markdown",
   "metadata": {
    "id": "3DR-eO17geWu"
   },
   "source": [
    "# Convolutional Neural Network"
   ]
  },
  {
   "cell_type": "markdown",
   "metadata": {
    "id": "EMefrVPCg-60"
   },
   "source": [
    "### Importing the libraries"
   ]
  },
  {
   "cell_type": "code",
   "metadata": {
    "id": "sCV30xyVhFbE",
    "colab": {
     "base_uri": "https://localhost:8080/"
    },
    "outputId": "55a5774d-3650-4cf0-ed92-716656089aa5"
   },
   "source": [
    "import tensorflow as tf\n",
    "from keras.preprocessing.image import ImageDataGenerator # 이미지 전처리를 위한 모듈"
   ],
   "execution_count": 1,
   "outputs": [
    {
     "output_type": "stream",
     "name": "stdout",
     "text": [
      "Mounted at /content/drive\n"
     ]
    }
   ]
  },
  {
   "cell_type": "markdown",
   "metadata": {
    "id": "oxQxCBWyoGPE"
   },
   "source": [
    "## Part 1 - Data Preprocessing"
   ]
  },
  {
   "cell_type": "markdown",
   "metadata": {
    "id": "MvE-heJNo3GG"
   },
   "source": [
    "### Preprocessing the Training set"
   ]
  },
  {
   "cell_type": "code",
   "metadata": {
    "id": "0koUcJMJpEBD",
    "colab": {
     "base_uri": "https://localhost:8080/"
    },
    "outputId": "bae67313-c158-4bbb-ad94-1d29224c0e3d"
   },
   "source": [
    "train_datagen = ImageDataGenerator(rescale = 1./255,  # featureScaling\n",
    "                                   shear_range = 0.2,\n",
    "                                   zoom_range = 0.2,\n",
    "                                   horizontal_flip = True)\n",
    "#  image argumentation : 과적합을 방지하기 위해 train set에만 적용하고 test set에는 적용하지 않는다.\n",
    "#  이미지에 기하학적 변화를 주거나 확대/축소하고 회전을 시킨다.\n",
    "#  training set의 이미지를 변화시켜 overfit이 발생하는 것을 방지한다.\n",
    "training_set = train_datagen.flow_from_directory('/content/drive/MyDrive/dataset/training_set',\n",
    "                                                 target_size = (64, 64),  # 이미지의 최종 크기 (크면 training 시간이 길어진다.)\n",
    "                                                 batch_size = 32, # 각 배치에 몇개의 이미지를 사용할 것인지? 보통 32로 한다.\n",
    "                                                 class_mode = 'binary')  # binary or categorical 여기서는 개, 고양이만 있으니까 binary"
   ],
   "execution_count": null,
   "outputs": [
    {
     "output_type": "stream",
     "name": "stdout",
     "text": [
      "Found 8000 images belonging to 2 classes.\n"
     ]
    }
   ]
  },
  {
   "cell_type": "markdown",
   "metadata": {
    "id": "mrCMmGw9pHys"
   },
   "source": [
    "### Preprocessing the Test set"
   ]
  },
  {
   "cell_type": "code",
   "metadata": {
    "id": "SH4WzfOhpKc3",
    "colab": {
     "base_uri": "https://localhost:8080/"
    },
    "outputId": "c310c591-bfb3-4542-bd2d-57bfb06f339f"
   },
   "source": [
    "test_datagen = ImageDataGenerator(rescale = 1./255)\n",
    "test_set = test_datagen.flow_from_directory('/content/drive/MyDrive/dataset/test_set',\n",
    "                                            target_size = (64, 64),\n",
    "                                            batch_size = 32,\n",
    "                                            class_mode = 'binary')"
   ],
   "execution_count": null,
   "outputs": [
    {
     "output_type": "stream",
     "name": "stdout",
     "text": [
      "Found 2000 images belonging to 2 classes.\n"
     ]
    }
   ]
  },
  {
   "cell_type": "markdown",
   "metadata": {
    "id": "af8O4l90gk7B"
   },
   "source": [
    "## Part 2 - Building the CNN"
   ]
  },
  {
   "cell_type": "markdown",
   "metadata": {
    "id": "ces1gXY2lmoX"
   },
   "source": [
    "### Initialising the CNN"
   ]
  },
  {
   "cell_type": "code",
   "metadata": {
    "id": "SAUt4UMPlhLS"
   },
   "source": [
    "cnn = tf.keras.models.Sequential()"
   ],
   "execution_count": null,
   "outputs": []
  },
  {
   "cell_type": "markdown",
   "metadata": {
    "id": "u5YJj_XMl5LF"
   },
   "source": [
    "### Convolution Layer"
   ]
  },
  {
   "cell_type": "code",
   "metadata": {
    "id": "XPzPrMckl-hV"
   },
   "source": [
    "cnn.add(tf.keras.layers.Conv2D(filters=32, kernel_size=3, activation='relu', input_shape=[64, 64, 3]))  \n",
    "# filters  특징감지기의 갯수\n",
    "# kernel_size = 3*3 커널 사용\n",
    "# target_size [64,64] 와 color image 니까 3을 입력.(흑백이면 1)"
   ],
   "execution_count": null,
   "outputs": []
  },
  {
   "cell_type": "markdown",
   "metadata": {
    "id": "tf87FpvxmNOJ"
   },
   "source": [
    "### Pooling Layer"
   ]
  },
  {
   "cell_type": "code",
   "metadata": {
    "id": "ncpqPl69mOac"
   },
   "source": [
    "cnn.add(tf.keras.layers.MaxPool2D(pool_size=2, strides=2))\n",
    "# pooling frame size 2*2\n",
    "# 보폭 2"
   ],
   "execution_count": null,
   "outputs": []
  },
  {
   "cell_type": "markdown",
   "metadata": {
    "id": "xaTOgD8rm4mU"
   },
   "source": [
    "### Adding additional Layer"
   ]
  },
  {
   "cell_type": "code",
   "metadata": {
    "id": "i_-FZjn_m8gk"
   },
   "source": [
    "cnn.add(tf.keras.layers.Conv2D(filters=32, kernel_size=3, activation='relu'))\n",
    "cnn.add(tf.keras.layers.MaxPool2D(pool_size=2, strides=2))\n",
    "cnn.add(tf.keras.layers.BatchNormalization())\n",
    "cnn.add(tf.keras.layers.Conv2D(filters=32, kernel_size=3, activation='relu'))\n",
    "cnn.add(tf.keras.layers.MaxPool2D(pool_size=2, strides=2))"
   ],
   "execution_count": null,
   "outputs": []
  },
  {
   "cell_type": "markdown",
   "metadata": {
    "id": "tmiEuvTunKfk"
   },
   "source": [
    "### Step 3 - Flattening"
   ]
  },
  {
   "cell_type": "code",
   "metadata": {
    "id": "6AZeOGCvnNZn"
   },
   "source": [
    "cnn.add(tf.keras.layers.Flatten())\n",
    "#  1차원 벡터로 펼치기."
   ],
   "execution_count": null,
   "outputs": []
  },
  {
   "cell_type": "markdown",
   "metadata": {
    "id": "dAoSECOm203v"
   },
   "source": [
    "### Step 4 - Full Connection"
   ]
  },
  {
   "cell_type": "code",
   "metadata": {
    "id": "8GtmUlLd26Nq"
   },
   "source": [
    "cnn.add(tf.keras.layers.Dense(units=128, activation='relu'))\n",
    "cnn.add(tf.keras.layers.Dropout(rate=0.2))\n",
    "#  units : 히든 뉴런의 갯수, 뉴런이 많으면 정확도가 높아질 것이다.\n",
    "#  output layer가 아니기 때문에. -> 'relu' 사용"
   ],
   "execution_count": null,
   "outputs": []
  },
  {
   "cell_type": "markdown",
   "metadata": {
    "id": "yTldFvbX28Na"
   },
   "source": [
    "### Step 5 - Output Layer"
   ]
  },
  {
   "cell_type": "code",
   "metadata": {
    "id": "1p_Zj1Mc3Ko_"
   },
   "source": [
    "cnn.add(tf.keras.layers.Dense(units=1, activation='sigmoid'))\n",
    "#  output은 여기서는 이진분류이므로 개, 고양이 0,1만 있으면 되니까 units = 1\n",
    "#  output은 sigmoid (이진분류), softmax(다중분류)"
   ],
   "execution_count": null,
   "outputs": []
  },
  {
   "cell_type": "markdown",
   "metadata": {
    "id": "D6XkI90snSDl"
   },
   "source": [
    "## Part 3 - Training the CNN"
   ]
  },
  {
   "cell_type": "markdown",
   "metadata": {
    "id": "vfrFQACEnc6i"
   },
   "source": [
    "### Compiling the CNN"
   ]
  },
  {
   "cell_type": "code",
   "metadata": {
    "id": "NALksrNQpUlJ"
   },
   "source": [
    "cnn.compile(optimizer = 'adam', loss = 'binary_crossentropy', metrics = ['accuracy'])\n",
    "#  optimizer : adam\n",
    "#  loss : \n",
    "#  metrics : 다중 선택을 할 수 있지만 지금은 accuracy만 사용."
   ],
   "execution_count": null,
   "outputs": []
  },
  {
   "cell_type": "markdown",
   "metadata": {
    "id": "ehS-v3MIpX2h"
   },
   "source": [
    "### Training the CNN on the Training set and evaluating it on the Test set"
   ]
  },
  {
   "cell_type": "code",
   "metadata": {
    "id": "XUj1W4PJptta",
    "colab": {
     "base_uri": "https://localhost:8080/"
    },
    "outputId": "61f5fcdd-84f6-41f9-c9fd-dc91eb0f6ddc"
   },
   "source": [
    "cnn.fit(x = training_set, validation_data = test_set, epochs = 25)"
   ],
   "execution_count": null,
   "outputs": [
    {
     "output_type": "stream",
     "name": "stdout",
     "text": [
      "Epoch 1/25\n",
      "250/250 [==============================] - 5289s 21s/step - loss: 0.6767 - accuracy: 0.5934 - val_loss: 0.6457 - val_accuracy: 0.6560\n",
      "Epoch 2/25\n",
      "250/250 [==============================] - 79s 318ms/step - loss: 0.6264 - accuracy: 0.6565 - val_loss: 0.5908 - val_accuracy: 0.6925\n",
      "Epoch 3/25\n",
      "250/250 [==============================] - 81s 323ms/step - loss: 0.5806 - accuracy: 0.6945 - val_loss: 0.5496 - val_accuracy: 0.7320\n",
      "Epoch 4/25\n",
      "250/250 [==============================] - 81s 323ms/step - loss: 0.5502 - accuracy: 0.7170 - val_loss: 0.5171 - val_accuracy: 0.7540\n",
      "Epoch 5/25\n",
      "250/250 [==============================] - 81s 322ms/step - loss: 0.5187 - accuracy: 0.7383 - val_loss: 0.5087 - val_accuracy: 0.7515\n",
      "Epoch 6/25\n",
      "250/250 [==============================] - 79s 316ms/step - loss: 0.4901 - accuracy: 0.7607 - val_loss: 0.4910 - val_accuracy: 0.7690\n",
      "Epoch 7/25\n",
      "250/250 [==============================] - 81s 324ms/step - loss: 0.4676 - accuracy: 0.7745 - val_loss: 0.4926 - val_accuracy: 0.7695\n",
      "Epoch 8/25\n",
      "250/250 [==============================] - 81s 322ms/step - loss: 0.4637 - accuracy: 0.7775 - val_loss: 0.4798 - val_accuracy: 0.7770\n",
      "Epoch 9/25\n",
      "250/250 [==============================] - 78s 313ms/step - loss: 0.4503 - accuracy: 0.7869 - val_loss: 0.4794 - val_accuracy: 0.7725\n",
      "Epoch 10/25\n",
      "250/250 [==============================] - 80s 319ms/step - loss: 0.4350 - accuracy: 0.7970 - val_loss: 0.4698 - val_accuracy: 0.7850\n",
      "Epoch 11/25\n",
      "250/250 [==============================] - 79s 317ms/step - loss: 0.4171 - accuracy: 0.8070 - val_loss: 0.5103 - val_accuracy: 0.7705\n",
      "Epoch 12/25\n",
      "250/250 [==============================] - 80s 320ms/step - loss: 0.4050 - accuracy: 0.8154 - val_loss: 0.4730 - val_accuracy: 0.7850\n",
      "Epoch 13/25\n",
      "250/250 [==============================] - 78s 312ms/step - loss: 0.3886 - accuracy: 0.8215 - val_loss: 0.4739 - val_accuracy: 0.7900\n",
      "Epoch 14/25\n",
      "250/250 [==============================] - 79s 318ms/step - loss: 0.3702 - accuracy: 0.8326 - val_loss: 0.4669 - val_accuracy: 0.7925\n",
      "Epoch 15/25\n",
      "250/250 [==============================] - 79s 314ms/step - loss: 0.3639 - accuracy: 0.8393 - val_loss: 0.4694 - val_accuracy: 0.7910\n",
      "Epoch 16/25\n",
      "250/250 [==============================] - 79s 316ms/step - loss: 0.3419 - accuracy: 0.8466 - val_loss: 0.4768 - val_accuracy: 0.8050\n",
      "Epoch 17/25\n",
      "250/250 [==============================] - 77s 309ms/step - loss: 0.3224 - accuracy: 0.8589 - val_loss: 0.4852 - val_accuracy: 0.7990\n",
      "Epoch 18/25\n",
      "250/250 [==============================] - 79s 315ms/step - loss: 0.3189 - accuracy: 0.8621 - val_loss: 0.4956 - val_accuracy: 0.7925\n",
      "Epoch 19/25\n",
      "250/250 [==============================] - 79s 317ms/step - loss: 0.2989 - accuracy: 0.8701 - val_loss: 0.4839 - val_accuracy: 0.8030\n",
      "Epoch 20/25\n",
      "250/250 [==============================] - 77s 309ms/step - loss: 0.2775 - accuracy: 0.8804 - val_loss: 0.5346 - val_accuracy: 0.7765\n",
      "Epoch 21/25\n",
      "250/250 [==============================] - 79s 317ms/step - loss: 0.2605 - accuracy: 0.8898 - val_loss: 0.5145 - val_accuracy: 0.7970\n",
      "Epoch 22/25\n",
      "250/250 [==============================] - 79s 316ms/step - loss: 0.2583 - accuracy: 0.8917 - val_loss: 0.5588 - val_accuracy: 0.7910\n",
      "Epoch 23/25\n",
      "250/250 [==============================] - 79s 317ms/step - loss: 0.2409 - accuracy: 0.8970 - val_loss: 0.5236 - val_accuracy: 0.7985\n",
      "Epoch 24/25\n",
      "250/250 [==============================] - 78s 311ms/step - loss: 0.2221 - accuracy: 0.9085 - val_loss: 0.5514 - val_accuracy: 0.8015\n",
      "Epoch 25/25\n",
      "250/250 [==============================] - 80s 318ms/step - loss: 0.2195 - accuracy: 0.9097 - val_loss: 0.6332 - val_accuracy: 0.7720\n"
     ]
    },
    {
     "output_type": "execute_result",
     "data": {
      "text/plain": [
       "<keras.callbacks.History at 0x7f99cb9c8ad0>"
      ]
     },
     "metadata": {},
     "execution_count": 15
    }
   ]
  },
  {
   "cell_type": "markdown",
   "metadata": {
    "id": "U3PZasO0006Z"
   },
   "source": [
    "## Part 4 - Making a single prediction"
   ]
  },
  {
   "cell_type": "code",
   "metadata": {
    "id": "gsSiWEJY1BPB",
    "colab": {
     "base_uri": "https://localhost:8080/"
    },
    "outputId": "98df10e9-e174-4f80-9b4c-c94a6f0aefec"
   },
   "source": [
    "import numpy as np\n",
    "from keras.preprocessing import image\n",
    "test_image = image.load_img('/content/drive/MyDrive/dataset/single_prediction/cat_or_dog_2.jpg', target_size = (64, 64))\n",
    "test_image = image.img_to_array(test_image)  # PIL 형식의 이미지를 배열로 바꿔준다.\n",
    "test_image = np.expand_dims(test_image, axis = 0)  \n",
    "# 우리가 만든 모델은 배치사이즈가 32이다. 그래서 예측할때도 같은 배치로 해줘야한다.\n",
    "# 따라서 추가 배치를 해준다.\n",
    "result = cnn.predict(test_image/255.0)\n",
    "print(training_set.class_indices)\n",
    "if result[0][0] > 0.5:\n",
    "  prediction = 'dog'\n",
    "else:\n",
    "  prediction = 'cat'\n",
    "\n",
    "print(prediction)"
   ],
   "execution_count": null,
   "outputs": [
    {
     "output_type": "stream",
     "name": "stdout",
     "text": [
      "{'cats': 0, 'dogs': 1}\n",
      "cat\n"
     ]
    }
   ]
  }
 ]
}